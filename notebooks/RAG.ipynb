{
 "cells": [
  {
   "cell_type": "markdown",
   "id": "fa3c5640-d7ec-4da5-bddd-0bb48af8f8c8",
   "metadata": {},
   "source": [
    "# Load Libraries"
   ]
  },
  {
   "cell_type": "code",
   "execution_count": 12,
   "id": "f3b71db1-170c-489b-a46f-4b5d28142f7e",
   "metadata": {},
   "outputs": [],
   "source": [
    "%%capture\n",
    "!pip3 install weaviate-client transformers torch"
   ]
  },
  {
   "cell_type": "markdown",
   "id": "6b31fd7d-7a69-4670-a979-b7585a6554b3",
   "metadata": {},
   "source": [
    "# Create Spark Session"
   ]
  },
  {
   "cell_type": "code",
   "execution_count": 2,
   "id": "343b3e00-2c9f-46ca-8308-a2e3448b5af4",
   "metadata": {},
   "outputs": [
    {
     "name": "stderr",
     "output_type": "stream",
     "text": [
      "/opt/conda/lib/python3.11/site-packages/weaviate/warnings.py:158: DeprecationWarning: Dep016: You are using the Weaviate v3 client, which is deprecated.\n",
      "            Consider upgrading to the new and improved v4 client instead!\n",
      "            See here for usage: https://weaviate.io/developers/weaviate/client-libraries/python\n",
      "            \n",
      "  warnings.warn(\n"
     ]
    }
   ],
   "source": [
    "from pyspark.sql import SparkSession\n",
    "import os\n",
    "import weaviate\n",
    "from pyspark.sql.types import StructType, StructField, IntegerType, StringType, FloatType\n",
    "from pyspark.sql import SparkSession\n",
    "from transformers import AutoTokenizer, AutoModel\n",
    "import torch\n",
    "from pyspark.sql.functions import udf\n",
    "from pyspark.sql.types import ArrayType, FloatType\n",
    "\n",
    "\n",
    "client = weaviate.Client(\"http://weaviate:8080\")\n",
    "\n",
    "\n",
    "spark = (\n",
    "    SparkSession.builder.config(\n",
    "        \"spark.jars.packages\",\n",
    "        \"io.weaviate:spark-connector_2.12:1.3.2\", \n",
    "    )\n",
    "    .master(\"local[*]\")\n",
    "    .appName(\"weaviate\")\n",
    "    .getOrCreate()\n",
    ")\n",
    "\n",
    "spark.sparkContext.setLogLevel(\"WARN\")"
   ]
  },
  {
   "cell_type": "markdown",
   "id": "881f85af-48dd-431a-80eb-b2319839caa4",
   "metadata": {},
   "source": [
    "# Load Model and Generate Vectors"
   ]
  },
  {
   "cell_type": "code",
   "execution_count": 3,
   "id": "2ce0a40b-0d74-4c2e-9f15-b8dc5fceaf3a",
   "metadata": {},
   "outputs": [
    {
     "name": "stderr",
     "output_type": "stream",
     "text": [
      "/opt/conda/lib/python3.11/site-packages/huggingface_hub/file_download.py:1132: FutureWarning: `resume_download` is deprecated and will be removed in version 1.0.0. Downloads always resume when possible. If you want to force a new download, use `force_download=True`.\n",
      "  warnings.warn(\n"
     ]
    },
    {
     "data": {
      "application/vnd.jupyter.widget-view+json": {
       "model_id": "8a81dec8fa8b476db102d473528939d1",
       "version_major": 2,
       "version_minor": 0
      },
      "text/plain": [
       "tokenizer_config.json:   0%|          | 0.00/28.0 [00:00<?, ?B/s]"
      ]
     },
     "metadata": {},
     "output_type": "display_data"
    },
    {
     "data": {
      "application/vnd.jupyter.widget-view+json": {
       "model_id": "8f1f14271d564c07817af3e84fedc613",
       "version_major": 2,
       "version_minor": 0
      },
      "text/plain": [
       "config.json:   0%|          | 0.00/483 [00:00<?, ?B/s]"
      ]
     },
     "metadata": {},
     "output_type": "display_data"
    },
    {
     "data": {
      "application/vnd.jupyter.widget-view+json": {
       "model_id": "baf901124e124d90a3fa1351d820bd21",
       "version_major": 2,
       "version_minor": 0
      },
      "text/plain": [
       "vocab.txt:   0%|          | 0.00/232k [00:00<?, ?B/s]"
      ]
     },
     "metadata": {},
     "output_type": "display_data"
    },
    {
     "data": {
      "application/vnd.jupyter.widget-view+json": {
       "model_id": "8258904a6458417eb969cf7ff417827c",
       "version_major": 2,
       "version_minor": 0
      },
      "text/plain": [
       "tokenizer.json:   0%|          | 0.00/466k [00:00<?, ?B/s]"
      ]
     },
     "metadata": {},
     "output_type": "display_data"
    },
    {
     "name": "stderr",
     "output_type": "stream",
     "text": [
      "/opt/conda/lib/python3.11/site-packages/huggingface_hub/file_download.py:1132: FutureWarning: `resume_download` is deprecated and will be removed in version 1.0.0. Downloads always resume when possible. If you want to force a new download, use `force_download=True`.\n",
      "  warnings.warn(\n"
     ]
    },
    {
     "data": {
      "application/vnd.jupyter.widget-view+json": {
       "model_id": "d793e1621365490ab21ce34aab2b53a4",
       "version_major": 2,
       "version_minor": 0
      },
      "text/plain": [
       "model.safetensors:   0%|          | 0.00/268M [00:00<?, ?B/s]"
      ]
     },
     "metadata": {},
     "output_type": "display_data"
    }
   ],
   "source": [
    "def load_model_and_tokenizer():\n",
    "    tokenizer = AutoTokenizer.from_pretrained(\"distilbert-base-uncased\")\n",
    "    model = AutoModel.from_pretrained(\"distilbert-base-uncased\")\n",
    "    return tokenizer, model\n",
    "def generate_vectors(description):\n",
    "    tokens = tokenizer(description, return_tensors=\"pt\", padding=True, truncation=True, max_length=512)\n",
    "    with torch.no_grad():\n",
    "        outputs = model(**tokens)\n",
    "    return outputs.last_hidden_state[:, 0, :].numpy().flatten().tolist()\n",
    "    \n",
    "tokenizer, model = load_model_and_tokenizer()"
   ]
  },
  {
   "cell_type": "markdown",
   "id": "851b9a97-5760-4e75-8d1b-35f8da5ee8c4",
   "metadata": {},
   "source": [
    "# Load Data"
   ]
  },
  {
   "cell_type": "code",
   "execution_count": 4,
   "id": "af2b68a7-fa75-4abc-ae45-bcc1eaf1ebd9",
   "metadata": {},
   "outputs": [],
   "source": [
    "df = spark.read.json(\"/home/jovyan/work/course.json\")"
   ]
  },
  {
   "cell_type": "code",
   "execution_count": 5,
   "id": "836af8bb-e490-4b54-9f1e-8301353a8c73",
   "metadata": {
    "scrolled": true
   },
   "outputs": [
    {
     "name": "stdout",
     "output_type": "stream",
     "text": [
      "root\n",
      " |-- attendancePolicy: string (nullable = true)\n",
      " |-- classSchedule: string (nullable = true)\n",
      " |-- courseDescription: string (nullable = true)\n",
      " |-- courseFacultyName: string (nullable = true)\n",
      " |-- courseFacultyOfficeHours: string (nullable = true)\n",
      " |-- courseName: string (nullable = true)\n",
      " |-- courseOfficeHours: string (nullable = true)\n",
      " |-- dueDates: string (nullable = true)\n",
      " |-- learningOutcomes: string (nullable = true)\n",
      " |-- prerequisites: string (nullable = true)\n",
      " |-- requiredTexts: string (nullable = true)\n",
      "\n"
     ]
    }
   ],
   "source": [
    "df.printSchema()"
   ]
  },
  {
   "cell_type": "markdown",
   "id": "f8e2108f-45d3-4541-80a8-3d1612d65003",
   "metadata": {},
   "source": [
    "# Generate Vector for courseDescription"
   ]
  },
  {
   "cell_type": "code",
   "execution_count": 6,
   "id": "3191902f-dfd5-47ff-b728-ac470d6856e1",
   "metadata": {},
   "outputs": [
    {
     "name": "stdout",
     "output_type": "stream",
     "text": [
      "+--------------------+--------------------+--------------------+-----------------+------------------------+--------------------+--------------------+--------------------+--------------------+--------------------+--------------------+\n",
      "|    attendancePolicy|       classSchedule|   courseDescription|courseFacultyName|courseFacultyOfficeHours|          courseName|   courseOfficeHours|            dueDates|    learningOutcomes|       prerequisites|       requiredTexts|\n",
      "+--------------------+--------------------+--------------------+-----------------+------------------------+--------------------+--------------------+--------------------+--------------------+--------------------+--------------------+\n",
      "|Attendance is not...|Tuesday Class: Hi...|A broad introduct...|       Akit Kumar|    TBD – See Blackbo...|IST-718 Big Data ...|TBD – See Blackbo...|Assignment dates ...|Translate a busin...|Familiarity with ...|Python Data Scien...|\n",
      "|Attendance in cla...|Mondays and Wedne...|Knowledge represe...|     Garrett Katz|    Mondays and Wedne...|CIS 467/667: Intr...|Mondays and Wedne...|Refer to the tent...|Build and underst...|MAT295+296: Calcu...|                    |\n",
      "|                    |Link Hal 331, Mon...|Bioengineering so...|      David Quinn|    Email for appoint...|BEN 687 Advanced ...|Email for appoint...|                    |                    |BS in Bioengineer...|                    |\n",
      "+--------------------+--------------------+--------------------+-----------------+------------------------+--------------------+--------------------+--------------------+--------------------+--------------------+--------------------+\n",
      "\n"
     ]
    }
   ],
   "source": [
    "df.show()"
   ]
  },
  {
   "cell_type": "code",
   "execution_count": 7,
   "id": "b323224c-7375-48b0-ba0a-7149fa520279",
   "metadata": {
    "scrolled": true
   },
   "outputs": [
    {
     "name": "stdout",
     "output_type": "stream",
     "text": [
      "root\n",
      " |-- attendancePolicy: string (nullable = true)\n",
      " |-- classSchedule: string (nullable = true)\n",
      " |-- courseDescription: string (nullable = true)\n",
      " |-- courseFacultyName: string (nullable = true)\n",
      " |-- courseFacultyOfficeHours: string (nullable = true)\n",
      " |-- courseName: string (nullable = true)\n",
      " |-- courseOfficeHours: string (nullable = true)\n",
      " |-- dueDates: string (nullable = true)\n",
      " |-- learningOutcomes: string (nullable = true)\n",
      " |-- prerequisites: string (nullable = true)\n",
      " |-- requiredTexts: string (nullable = true)\n",
      " |-- vector: array (nullable = true)\n",
      " |    |-- element: float (containsNull = true)\n",
      "\n"
     ]
    }
   ],
   "source": [
    "vector_udf = udf(generate_vectors, ArrayType(FloatType()))\n",
    "df_vec = df.withColumn(\"vector\", vector_udf(df['courseDescription']))\n",
    "df_vec.printSchema()"
   ]
  },
  {
   "cell_type": "markdown",
   "id": "fe74a656-2ece-4d37-8f20-5d459eea11ce",
   "metadata": {},
   "source": [
    "# Pushing Custom Schema to Weaviate"
   ]
  },
  {
   "cell_type": "code",
   "execution_count": null,
   "id": "e13e9064-8394-45a5-a7a2-5bb047242ad9",
   "metadata": {
    "jp-MarkdownHeadingCollapsed": true
   },
   "outputs": [],
   "source": [
    "# First, delete all existing classes in the schema\n",
    "client.schema.delete_all()\n",
    "\n",
    "# Now, create a new class for \"Course\"\n",
    "client.schema.create_class(\n",
    "    {\n",
    "        \"class\": \"Course\",\n",
    "        \"description\": \"A class representing the courses including their descriptions, schedules, and other related information.\",\n",
    "        \"properties\": [\n",
    "            {\n",
    "                \"name\": \"courseName\",\n",
    "                \"dataType\": [\"string\"],\n",
    "                \"description\": \"The name of the course.\"\n",
    "            },\n",
    "            {\n",
    "                \"name\": \"courseDescription\",\n",
    "                \"dataType\": [\"string\"],\n",
    "                \"description\": \"A detailed description of what the course covers.\"\n",
    "            },\n",
    "            {\n",
    "                \"name\": \"courseFacultyName\",\n",
    "                \"dataType\": [\"string\"],\n",
    "                \"description\": \"Name of the faculty teaching the course.\"\n",
    "            },\n",
    "            {\n",
    "                \"name\": \"courseFacultyOfficeHours\",\n",
    "                \"dataType\": [\"string\"],\n",
    "                \"description\": \"Scheduled office hours for the course faculty.\"\n",
    "            },\n",
    "            {\n",
    "                \"name\": \"courseOfficeHours\",\n",
    "                \"dataType\": [\"string\"],\n",
    "                \"description\": \"General office hours related to the course.\"\n",
    "            },\n",
    "            {\n",
    "                \"name\": \"requiredTexts\",\n",
    "                \"dataType\": [\"string\"],\n",
    "                \"description\": \"List of required texts for the course.\"\n",
    "            },\n",
    "            {\n",
    "                \"name\": \"learningOutcomes\",\n",
    "                \"dataType\": [\"string\"],\n",
    "                \"description\": \"Expected learning outcomes for the students.\"\n",
    "            },\n",
    "            {\n",
    "                \"name\": \"attendancePolicy\",\n",
    "                \"dataType\": [\"string\"],\n",
    "                \"description\": \"Policy regarding attendance in the course.\"\n",
    "            },\n",
    "            {\n",
    "                \"name\": \"classSchedule\",\n",
    "                \"dataType\": [\"string\"],\n",
    "                \"description\": \"Schedule of classes.\"\n",
    "            },\n",
    "            {\n",
    "                \"name\": \"dueDates\",\n",
    "                \"dataType\": [\"string\"],\n",
    "                \"description\": \"Important dates and deadlines for course assignments.\"\n",
    "            },\n",
    "            {\n",
    "                \"name\": \"prerequisites\",\n",
    "                \"dataType\": [\"string\"],\n",
    "                \"description\": \"Prerequisites required for enrolling in the course.\"\n",
    "            }\n",
    "        ]\n",
    "    }\n",
    ")\n"
   ]
  },
  {
   "cell_type": "markdown",
   "id": "24492c8c-4e0a-473c-8864-c033094a99f0",
   "metadata": {},
   "source": [
    "# Pushing Data to Weaviate"
   ]
  },
  {
   "cell_type": "code",
   "execution_count": 9,
   "id": "1bcbe211-2111-4fd5-be46-25239a56ece2",
   "metadata": {},
   "outputs": [],
   "source": [
    "df_vec.write.format(\"io.weaviate.spark.Weaviate\") \\\n",
    "    .option(\"scheme\", \"http\") \\\n",
    "    .option(\"host\", \"weaviate:8080\") \\\n",
    "    .option(\"className\", \"Course\") \\\n",
    "    .option(\"vector\", \"vector\") \\\n",
    "    .mode(\"append\").save()"
   ]
  },
  {
   "cell_type": "markdown",
   "id": "5cdc8cc6-dcd1-4d3d-91b4-e43ee67cdcce",
   "metadata": {},
   "source": [
    "# Query Data from Weaviate"
   ]
  },
  {
   "cell_type": "code",
   "execution_count": 10,
   "id": "a2bbdce7-fb23-4814-bbdd-76bc4a18e9ba",
   "metadata": {},
   "outputs": [],
   "source": [
    "question=\"automated reasoning, computer vision, and natural language processing\"\n",
    "q_v = {\"vector\":generate_vectors(question)}"
   ]
  },
  {
   "cell_type": "code",
   "execution_count": 11,
   "id": "2578a6d4-d678-46f7-87d2-1c3642fe9548",
   "metadata": {},
   "outputs": [
    {
     "name": "stdout",
     "output_type": "stream",
     "text": [
      "{\n",
      "    \"data\": {\n",
      "        \"Get\": {\n",
      "            \"Course\": [\n",
      "                {\n",
      "                    \"courseDescription\": \"Knowledge representation, production systems, search algorithms, game playing, uncertainty handling, learning, automated reasoning, computer vision, and natural language processing. Programming project or term paper required for CIS 667, not for CIS 467. The course aims to prepare students to work and live in a world increasingly influenced by artificial intelligence.\",\n",
      "                    \"courseFacultyName\": \"Garrett Katz\",\n",
      "                    \"courseName\": \"CIS 467/667: Introduction to Artificial Intelligence\"\n",
      "                }\n",
      "            ]\n",
      "        }\n",
      "    }\n",
      "}\n"
     ]
    }
   ],
   "source": [
    "import json\n",
    "response = (\n",
    "    client.query\n",
    "    .get(\"Course\", [\"courseName\", \"courseDescription\", \"courseFacultyName\"])  # Ensure these fields exist in your schema\n",
    "    .with_near_vector(q_v)\n",
    "    .with_limit(1)  # Adjust limit as needed\n",
    "    .do()\n",
    ")\n",
    "\n",
    "# Print the response formatted as JSON for readability\n",
    "print(json.dumps(response, indent=4))\n",
    "\n"
   ]
  }
 ],
 "metadata": {
  "kernelspec": {
   "display_name": "Python 3 (ipykernel)",
   "language": "python",
   "name": "python3"
  },
  "language_info": {
   "codemirror_mode": {
    "name": "ipython",
    "version": 3
   },
   "file_extension": ".py",
   "mimetype": "text/x-python",
   "name": "python",
   "nbconvert_exporter": "python",
   "pygments_lexer": "ipython3",
   "version": "3.11.9"
  }
 },
 "nbformat": 4,
 "nbformat_minor": 5
}
