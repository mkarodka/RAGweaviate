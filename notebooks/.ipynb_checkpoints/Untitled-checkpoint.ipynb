{
 "cells": [
  {
   "cell_type": "code",
   "execution_count": 1,
   "id": "8b3a8294-46cd-47a2-8ecc-a7e8bd186c25",
   "metadata": {
    "scrolled": true
   },
   "outputs": [
    {
     "name": "stdout",
     "output_type": "stream",
     "text": [
      "Collecting weaviate-client\n",
      "  Downloading weaviate_client-4.5.6-py3-none-any.whl.metadata (3.3 kB)\n",
      "Requirement already satisfied: requests<3.0.0,>=2.30.0 in /opt/conda/lib/python3.11/site-packages (from weaviate-client) (2.31.0)\n",
      "Requirement already satisfied: httpx==0.27.0 in /opt/conda/lib/python3.11/site-packages (from weaviate-client) (0.27.0)\n",
      "Collecting validators==0.28.0 (from weaviate-client)\n",
      "  Downloading validators-0.28.0-py3-none-any.whl.metadata (3.6 kB)\n",
      "Collecting authlib<2.0.0,>=1.2.1 (from weaviate-client)\n",
      "  Downloading Authlib-1.3.0-py2.py3-none-any.whl.metadata (3.8 kB)\n",
      "Collecting pydantic<3.0.0,>=2.5.0 (from weaviate-client)\n",
      "  Downloading pydantic-2.7.1-py3-none-any.whl.metadata (107 kB)\n",
      "\u001b[2K     \u001b[90m━━━━━━━━━━━━━━━━━━━━━━━━━━━━━━━━━━━━━━━\u001b[0m \u001b[32m107.3/107.3 kB\u001b[0m \u001b[31m2.7 MB/s\u001b[0m eta \u001b[36m0:00:00\u001b[0ma \u001b[36m0:00:01\u001b[0m\n",
      "\u001b[?25hRequirement already satisfied: grpcio<2.0.0,>=1.57.0 in /opt/conda/lib/python3.11/site-packages (from weaviate-client) (1.62.2)\n",
      "Collecting grpcio-tools<2.0.0,>=1.57.0 (from weaviate-client)\n",
      "  Downloading grpcio_tools-1.62.2-cp311-cp311-manylinux_2_17_aarch64.whl.metadata (6.2 kB)\n",
      "Collecting grpcio-health-checking<2.0.0,>=1.57.0 (from weaviate-client)\n",
      "  Downloading grpcio_health_checking-1.62.2-py3-none-any.whl.metadata (1.3 kB)\n",
      "Requirement already satisfied: anyio in /opt/conda/lib/python3.11/site-packages (from httpx==0.27.0->weaviate-client) (4.3.0)\n",
      "Requirement already satisfied: certifi in /opt/conda/lib/python3.11/site-packages (from httpx==0.27.0->weaviate-client) (2024.2.2)\n",
      "Requirement already satisfied: httpcore==1.* in /opt/conda/lib/python3.11/site-packages (from httpx==0.27.0->weaviate-client) (1.0.5)\n",
      "Requirement already satisfied: idna in /opt/conda/lib/python3.11/site-packages (from httpx==0.27.0->weaviate-client) (3.7)\n",
      "Requirement already satisfied: sniffio in /opt/conda/lib/python3.11/site-packages (from httpx==0.27.0->weaviate-client) (1.3.1)\n",
      "Requirement already satisfied: h11<0.15,>=0.13 in /opt/conda/lib/python3.11/site-packages (from httpcore==1.*->httpx==0.27.0->weaviate-client) (0.14.0)\n",
      "Requirement already satisfied: cryptography in /opt/conda/lib/python3.11/site-packages (from authlib<2.0.0,>=1.2.1->weaviate-client) (42.0.5)\n",
      "Requirement already satisfied: protobuf>=4.21.6 in /opt/conda/lib/python3.11/site-packages (from grpcio-health-checking<2.0.0,>=1.57.0->weaviate-client) (4.25.3)\n",
      "Requirement already satisfied: setuptools in /opt/conda/lib/python3.11/site-packages (from grpcio-tools<2.0.0,>=1.57.0->weaviate-client) (69.5.1)\n",
      "Collecting annotated-types>=0.4.0 (from pydantic<3.0.0,>=2.5.0->weaviate-client)\n",
      "  Downloading annotated_types-0.6.0-py3-none-any.whl.metadata (12 kB)\n",
      "Collecting pydantic-core==2.18.2 (from pydantic<3.0.0,>=2.5.0->weaviate-client)\n",
      "  Downloading pydantic_core-2.18.2-cp311-cp311-manylinux_2_17_aarch64.manylinux2014_aarch64.whl.metadata (6.5 kB)\n",
      "Requirement already satisfied: typing-extensions>=4.6.1 in /opt/conda/lib/python3.11/site-packages (from pydantic<3.0.0,>=2.5.0->weaviate-client) (4.11.0)\n",
      "Requirement already satisfied: charset-normalizer<4,>=2 in /opt/conda/lib/python3.11/site-packages (from requests<3.0.0,>=2.30.0->weaviate-client) (3.3.2)\n",
      "Requirement already satisfied: urllib3<3,>=1.21.1 in /opt/conda/lib/python3.11/site-packages (from requests<3.0.0,>=2.30.0->weaviate-client) (2.2.1)\n",
      "Requirement already satisfied: cffi>=1.12 in /opt/conda/lib/python3.11/site-packages (from cryptography->authlib<2.0.0,>=1.2.1->weaviate-client) (1.16.0)\n",
      "Requirement already satisfied: pycparser in /opt/conda/lib/python3.11/site-packages (from cffi>=1.12->cryptography->authlib<2.0.0,>=1.2.1->weaviate-client) (2.22)\n",
      "Downloading weaviate_client-4.5.6-py3-none-any.whl (307 kB)\n",
      "\u001b[2K   \u001b[90m━━━━━━━━━━━━━━━━━━━━━━━━━━━━━━━━━━━━━━━━\u001b[0m \u001b[32m307.0/307.0 kB\u001b[0m \u001b[31m8.0 MB/s\u001b[0m eta \u001b[36m0:00:00\u001b[0ma \u001b[36m0:00:01\u001b[0m\n",
      "\u001b[?25hDownloading validators-0.28.0-py3-none-any.whl (39 kB)\n",
      "Downloading Authlib-1.3.0-py2.py3-none-any.whl (223 kB)\n",
      "\u001b[2K   \u001b[90m━━━━━━━━━━━━━━━━━━━━━━━━━━━━━━━━━━━━━━━━\u001b[0m \u001b[32m223.7/223.7 kB\u001b[0m \u001b[31m28.1 MB/s\u001b[0m eta \u001b[36m0:00:00\u001b[0m\n",
      "\u001b[?25hDownloading grpcio_health_checking-1.62.2-py3-none-any.whl (18 kB)\n",
      "Downloading grpcio_tools-1.62.2-cp311-cp311-manylinux_2_17_aarch64.whl (2.7 MB)\n",
      "\u001b[2K   \u001b[90m━━━━━━━━━━━━━━━━━━━━━━━━━━━━━━━━━━━━━━━━\u001b[0m \u001b[32m2.7/2.7 MB\u001b[0m \u001b[31m32.5 MB/s\u001b[0m eta \u001b[36m0:00:00\u001b[0ma \u001b[36m0:00:01\u001b[0m\n",
      "\u001b[?25hDownloading pydantic-2.7.1-py3-none-any.whl (409 kB)\n",
      "\u001b[2K   \u001b[90m━━━━━━━━━━━━━━━━━━━━━━━━━━━━━━━━━━━━━━━━\u001b[0m \u001b[32m409.3/409.3 kB\u001b[0m \u001b[31m33.6 MB/s\u001b[0m eta \u001b[36m0:00:00\u001b[0m\n",
      "\u001b[?25hDownloading pydantic_core-2.18.2-cp311-cp311-manylinux_2_17_aarch64.manylinux2014_aarch64.whl (1.8 MB)\n",
      "\u001b[2K   \u001b[90m━━━━━━━━━━━━━━━━━━━━━━━━━━━━━━━━━━━━━━━━\u001b[0m \u001b[32m1.8/1.8 MB\u001b[0m \u001b[31m43.8 MB/s\u001b[0m eta \u001b[36m0:00:00\u001b[0ma \u001b[36m0:00:01\u001b[0m\n",
      "\u001b[?25hDownloading annotated_types-0.6.0-py3-none-any.whl (12 kB)\n",
      "Installing collected packages: validators, pydantic-core, grpcio-tools, grpcio-health-checking, annotated-types, pydantic, authlib, weaviate-client\n",
      "Successfully installed annotated-types-0.6.0 authlib-1.3.0 grpcio-health-checking-1.62.2 grpcio-tools-1.62.2 pydantic-2.7.1 pydantic-core-2.18.2 validators-0.28.0 weaviate-client-4.5.6\n"
     ]
    }
   ],
   "source": [
    "!pip3 install weaviate-client"
   ]
  },
  {
   "cell_type": "code",
   "execution_count": 2,
   "id": "af5d139a-d88d-40b6-9e7f-c06c1f4173b0",
   "metadata": {},
   "outputs": [],
   "source": [
    "from pyspark.sql import SparkSession\n",
    "import os\n",
    "\n",
    "spark = (\n",
    "    SparkSession.builder.config(\n",
    "        \"spark.jars.packages\",\n",
    "        \"io.weaviate:spark-connector_2.12:1.3.2\",  #specify the spark connector JAR\n",
    "    )\n",
    "    .master(\"local[*]\")\n",
    "    .appName(\"weaviate\")\n",
    "    .getOrCreate()\n",
    ")\n",
    "\n",
    "spark.sparkContext.setLogLevel(\"WARN\")"
   ]
  },
  {
   "cell_type": "code",
   "execution_count": 3,
   "id": "4caa414a-00d6-42d5-b472-bff395e3cd44",
   "metadata": {},
   "outputs": [
    {
     "name": "stderr",
     "output_type": "stream",
     "text": [
      "/opt/conda/lib/python3.11/site-packages/weaviate/warnings.py:158: DeprecationWarning: Dep016: You are using the Weaviate v3 client, which is deprecated.\n",
      "            Consider upgrading to the new and improved v4 client instead!\n",
      "            See here for usage: https://weaviate.io/developers/weaviate/client-libraries/python\n",
      "            \n",
      "  warnings.warn(\n"
     ]
    }
   ],
   "source": [
    "import weaviate\n",
    "\n",
    "client = weaviate.Client(\"http://weaviate:8080\")\n"
   ]
  },
  {
   "cell_type": "code",
   "execution_count": 4,
   "id": "f70d7765-d586-4bcc-89ba-1c4002540c2e",
   "metadata": {},
   "outputs": [],
   "source": [
    "client.schema.delete_all()\n",
    "\n",
    "client.schema.create_class(\n",
    "    {\n",
    "        \"class\": \"Sphere\",\n",
    "        \"properties\": [\n",
    "            {\n",
    "                \"name\": \"raw\",\n",
    "                \"dataType\": [\"text\"]\n",
    "            },\n",
    "            {\n",
    "                \"name\": \"sha\",\n",
    "                \"dataType\": [\"text\"]\n",
    "            },\n",
    "            {\n",
    "                \"name\": \"title\",\n",
    "                \"dataType\": [\"text\"]\n",
    "            },\n",
    "            {\n",
    "                \"name\": \"url\",\n",
    "                \"dataType\": [\"text\"]\n",
    "            },\n",
    "        ],\n",
    "    }\n",
    ")"
   ]
  },
  {
   "cell_type": "code",
   "execution_count": 7,
   "id": "100a2985-0cfa-4bd1-9c2c-866b70680d97",
   "metadata": {},
   "outputs": [],
   "source": [
    "df.limit(150).withColumnRenamed(\"id\", \"uuid\").write.format(\"io.weaviate.spark.Weaviate\") \\\n",
    "    .option(\"batchSize\", 200) \\\n",
    "    .option(\"scheme\", \"http\") \\\n",
    "    .option(\"host\", \"weaviate:8080\") \\\n",
    "    .option(\"id\", \"uuid\") \\\n",
    "    .option(\"className\", \"Sphere\") \\\n",
    "    .option(\"vector\", \"vector\") \\\n",
    "    .mode(\"append\").save()"
   ]
  },
  {
   "cell_type": "code",
   "execution_count": 11,
   "id": "e401e9b3-69de-4db1-9888-f7ee17dcd690",
   "metadata": {},
   "outputs": [
    {
     "name": "stdout",
     "output_type": "stream",
     "text": [
      "+--------------------+--------------------+\n",
      "|              Course|             Faculty|\n",
      "+--------------------+--------------------+\n",
      "|{prerequisites ->...|                NULL|\n",
      "|{prerequisites ->...|[{name -> Garrett...|\n",
      "+--------------------+--------------------+\n",
      "\n"
     ]
    }
   ],
   "source": [
    "cis_667={\n",
    "  \"Course\": {\n",
    "    \"name\": \"CIS 467/667: Introduction to Artificial Intelligence\",\n",
    "    \"description\": \"Knowledge representation, production systems, search algorithms, game playing, uncertainty handling, learning, automated reasoning, computer vision, and natural language processing. Programming project or term paper required for CIS 667, not for CIS 467. The course aims to prepare students to work and live in a world increasingly influenced by artificial intelligence.\",\n",
    "    \"faculty\": {\n",
    "      \"name\": \"Garrett Katz\",\n",
    "      \"officeHours\": \"Mondays and Wednesdays 1-3PM Eastern time\"\n",
    "    },\n",
    "    \"officeHours\": \"Mondays and Wednesdays 1-3PM Eastern time\",\n",
    "    \"requiredTexts\": [],\n",
    "    \"learningOutcomes\": [\n",
    "      \"Build and understand AI systems applicable to examples like solving Rubik's cube, playing chess, recognizing symbols in images, and more.\",\n",
    "      \"Equip students with the knowledge needed for mathematical and computational exercises in AI.\"\n",
    "    ],\n",
    "    \"attendancePolicy\": \"Attendance in classes is expected in all courses at Syracuse University. No make-up exams offered, but the lowest exam grade is dropped.\",\n",
    "    \"classSchedule\": \"Mondays and Wednesdays 5:15 – 6:35 PM Eastern time at Heroy Geology Building Auditorium\",\n",
    "    \"dueDates\": \"Refer to the tentative course schedule on the Blackboard page.\",\n",
    "    \"prerequisites\": [\n",
    "      \"MAT295+296: Calculus I and II\",\n",
    "      \"CIS 375: Discrete Math\",\n",
    "      \"CIS 321: Probability and Statistics\",\n",
    "      \"CIS 351 or CSE 382: Algorithms and Data Structures\"\n",
    "    ]\n",
    "  },\n",
    "  \"Faculty\": [\n",
    "    {\n",
    "      \"name\": \"Garrett Katz\",\n",
    "      \"officeHours\": \"Mondays and Wednesdays 1-3PM Eastern time\"\n",
    "    },\n",
    "    {\n",
    "      \"name\": \"Borui He\",\n",
    "      \"officeHours\": \"Mondays and Wednesdays 10AM – 12PM (Eastern time)\"\n",
    "    },\n",
    "    {\n",
    "      \"name\": \"Ruipeng Liu\",\n",
    "      \"officeHours\": \"Tuesdays and Thursdays 10AM – 12PM (Eastern time)\"\n",
    "    }\n",
    "  ]\n",
    "}\n",
    "ist_718= {\n",
    "  \"Course\": {\n",
    "    \"name\": \"IST-718 Big Data Analytics\",\n",
    "    \"description\": \"A broad introduction to analytical processing tools and techniques for information professionals. Students will develop a portfolio of resources, demonstrations, recipes, and examples of various analytical techniques. This course will prepare you to participate as a Data Scientist on big data and data analytics projects.\",\n",
    "    \"faculty\": {\n",
    "      \"name\": \"Akit Kumar\",\n",
    "      \"officeHours\": \"TBD – See Blackboard Announcements; By appointment\"\n",
    "    },\n",
    "    \"officeHours\": \"TBD – See Blackboard Announcements; By appointment\",\n",
    "    \"requiredTexts\": [\n",
    "      \"Python Data Science Handbook by Jake VanderPlas\",\n",
    "      \"An Introduction to Statistical Learning with Applications in R by Gareth James, Daniela Witten, Trevor Hastie, Robert Tibshirani\",\n",
    "      \"Deep Learning by Ian Goodfellow, Yoshua Bengio, Aaron Courville\",\n",
    "      \"Apache Spark: The Definitive Guide by Chambers and Zaharia\"\n",
    "    ],\n",
    "    \"learningOutcomes\": [\n",
    "      \"Translate a business challenge into an analytics challenge\",\n",
    "      \"Use linear and logistic regression, decision trees, and neural networks to make predictions\",\n",
    "      \"Use data science to gain actionable insights\",\n",
    "      \"Use Python and Apache Spark to build big data analytics pipelines\",\n",
    "      \"Apply classic and state of the art machine learning techniques\",\n",
    "      \"Explain how advanced analytics can be leveraged to create a competitive advantage\"\n",
    "    ],\n",
    "    \"attendancePolicy\": \"Attendance is not mandatory but considered in final grading where a student's grade is close to the next higher grade.\",\n",
    "    \"classSchedule\": \"Tuesday Class: Hinds Hall Room 010, 2 – 4:45 PM, January 17th to April 25th.\",\n",
    "    \"dueDates\": \"Assignment dates and project deadlines are distributed throughout the semester.\",\n",
    "    \"prerequisites\": [\n",
    "      \"Familiarity with command-line interfaces\",\n",
    "      \"Quantitative skills including statistics\",\n",
    "      \"Basic knowledge of linear algebra, basic probability, basic statistics, basic calculus, strong algebra skills\",\n",
    "      \"Strong programming skills in Python or some other language\",\n",
    "      \"IST-687 Introduction to Data Science or IST-387\"\n",
    "    ]\n",
    "  }\n",
    "}\n",
    "\n",
    "df = spark.createDataFrame([ist_718,cis_667])\n",
    "df.show()"
   ]
  },
  {
   "cell_type": "code",
   "execution_count": 12,
   "id": "99d54a6c-3ae8-42fb-90c8-a4860cf8becf",
   "metadata": {},
   "outputs": [
    {
     "ename": "AnalysisException",
     "evalue": "[INVALID_EXTRACT_BASE_FIELD_TYPE] Can't extract a value from \"Course[faculty]\". Need a complex type [STRUCT, ARRAY, MAP] but got \"STRING\".",
     "output_type": "error",
     "traceback": [
      "\u001b[0;31m---------------------------------------------------------------------------\u001b[0m",
      "\u001b[0;31mAnalysisException\u001b[0m                         Traceback (most recent call last)",
      "Cell \u001b[0;32mIn[12], line 4\u001b[0m\n\u001b[1;32m      1\u001b[0m \u001b[38;5;28;01mfrom\u001b[39;00m \u001b[38;5;21;01mpyspark\u001b[39;00m\u001b[38;5;21;01m.\u001b[39;00m\u001b[38;5;21;01msql\u001b[39;00m\u001b[38;5;21;01m.\u001b[39;00m\u001b[38;5;21;01mfunctions\u001b[39;00m \u001b[38;5;28;01mimport\u001b[39;00m col\n\u001b[1;32m      3\u001b[0m \u001b[38;5;66;03m# Expand the DataFrame to show nested fields\u001b[39;00m\n\u001b[0;32m----> 4\u001b[0m df_flattened \u001b[38;5;241m=\u001b[39m \u001b[43mdf\u001b[49m\u001b[38;5;241;43m.\u001b[39;49m\u001b[43mselect\u001b[49m\u001b[43m(\u001b[49m\n\u001b[1;32m      5\u001b[0m \u001b[43m    \u001b[49m\u001b[43mcol\u001b[49m\u001b[43m(\u001b[49m\u001b[38;5;124;43m\"\u001b[39;49m\u001b[38;5;124;43mCourse.name\u001b[39;49m\u001b[38;5;124;43m\"\u001b[39;49m\u001b[43m)\u001b[49m\u001b[38;5;241;43m.\u001b[39;49m\u001b[43malias\u001b[49m\u001b[43m(\u001b[49m\u001b[38;5;124;43m\"\u001b[39;49m\u001b[38;5;124;43mcourse_name\u001b[39;49m\u001b[38;5;124;43m\"\u001b[39;49m\u001b[43m)\u001b[49m\u001b[43m,\u001b[49m\n\u001b[1;32m      6\u001b[0m \u001b[43m    \u001b[49m\u001b[43mcol\u001b[49m\u001b[43m(\u001b[49m\u001b[38;5;124;43m\"\u001b[39;49m\u001b[38;5;124;43mCourse.description\u001b[39;49m\u001b[38;5;124;43m\"\u001b[39;49m\u001b[43m)\u001b[49m\u001b[38;5;241;43m.\u001b[39;49m\u001b[43malias\u001b[49m\u001b[43m(\u001b[49m\u001b[38;5;124;43m\"\u001b[39;49m\u001b[38;5;124;43mcourse_description\u001b[39;49m\u001b[38;5;124;43m\"\u001b[39;49m\u001b[43m)\u001b[49m\u001b[43m,\u001b[49m\n\u001b[1;32m      7\u001b[0m \u001b[43m    \u001b[49m\u001b[43mcol\u001b[49m\u001b[43m(\u001b[49m\u001b[38;5;124;43m\"\u001b[39;49m\u001b[38;5;124;43mCourse.faculty.name\u001b[39;49m\u001b[38;5;124;43m\"\u001b[39;49m\u001b[43m)\u001b[49m\u001b[38;5;241;43m.\u001b[39;49m\u001b[43malias\u001b[49m\u001b[43m(\u001b[49m\u001b[38;5;124;43m\"\u001b[39;49m\u001b[38;5;124;43mfaculty_name\u001b[39;49m\u001b[38;5;124;43m\"\u001b[39;49m\u001b[43m)\u001b[49m\u001b[43m,\u001b[49m\n\u001b[1;32m      8\u001b[0m \u001b[43m    \u001b[49m\u001b[43mcol\u001b[49m\u001b[43m(\u001b[49m\u001b[38;5;124;43m\"\u001b[39;49m\u001b[38;5;124;43mCourse.faculty.officeHours\u001b[39;49m\u001b[38;5;124;43m\"\u001b[39;49m\u001b[43m)\u001b[49m\u001b[38;5;241;43m.\u001b[39;49m\u001b[43malias\u001b[49m\u001b[43m(\u001b[49m\u001b[38;5;124;43m\"\u001b[39;49m\u001b[38;5;124;43mfaculty_office_hours\u001b[39;49m\u001b[38;5;124;43m\"\u001b[39;49m\u001b[43m)\u001b[49m\u001b[43m,\u001b[49m\n\u001b[1;32m      9\u001b[0m \u001b[43m    \u001b[49m\u001b[43mcol\u001b[49m\u001b[43m(\u001b[49m\u001b[38;5;124;43m\"\u001b[39;49m\u001b[38;5;124;43mCourse.learningOutcomes\u001b[39;49m\u001b[38;5;124;43m\"\u001b[39;49m\u001b[43m)\u001b[49m\u001b[38;5;241;43m.\u001b[39;49m\u001b[43malias\u001b[49m\u001b[43m(\u001b[49m\u001b[38;5;124;43m\"\u001b[39;49m\u001b[38;5;124;43mlearning_outcomes\u001b[39;49m\u001b[38;5;124;43m\"\u001b[39;49m\u001b[43m)\u001b[49m\u001b[43m,\u001b[49m\n\u001b[1;32m     10\u001b[0m \u001b[43m    \u001b[49m\u001b[43mcol\u001b[49m\u001b[43m(\u001b[49m\u001b[38;5;124;43m\"\u001b[39;49m\u001b[38;5;124;43mCourse.prerequisites\u001b[39;49m\u001b[38;5;124;43m\"\u001b[39;49m\u001b[43m)\u001b[49m\u001b[38;5;241;43m.\u001b[39;49m\u001b[43malias\u001b[49m\u001b[43m(\u001b[49m\u001b[38;5;124;43m\"\u001b[39;49m\u001b[38;5;124;43mprerequisites\u001b[39;49m\u001b[38;5;124;43m\"\u001b[39;49m\u001b[43m)\u001b[49m\u001b[43m,\u001b[49m\n\u001b[1;32m     11\u001b[0m \u001b[43m    \u001b[49m\u001b[43mcol\u001b[49m\u001b[43m(\u001b[49m\u001b[38;5;124;43m\"\u001b[39;49m\u001b[38;5;124;43mCourse.attendancePolicy\u001b[39;49m\u001b[38;5;124;43m\"\u001b[39;49m\u001b[43m)\u001b[49m\u001b[38;5;241;43m.\u001b[39;49m\u001b[43malias\u001b[49m\u001b[43m(\u001b[49m\u001b[38;5;124;43m\"\u001b[39;49m\u001b[38;5;124;43mattendance_policy\u001b[39;49m\u001b[38;5;124;43m\"\u001b[39;49m\u001b[43m)\u001b[49m\u001b[43m,\u001b[49m\n\u001b[1;32m     12\u001b[0m \u001b[43m    \u001b[49m\u001b[43mcol\u001b[49m\u001b[43m(\u001b[49m\u001b[38;5;124;43m\"\u001b[39;49m\u001b[38;5;124;43mCourse.classSchedule\u001b[39;49m\u001b[38;5;124;43m\"\u001b[39;49m\u001b[43m)\u001b[49m\u001b[38;5;241;43m.\u001b[39;49m\u001b[43malias\u001b[49m\u001b[43m(\u001b[49m\u001b[38;5;124;43m\"\u001b[39;49m\u001b[38;5;124;43mclass_schedule\u001b[39;49m\u001b[38;5;124;43m\"\u001b[39;49m\u001b[43m)\u001b[49m\u001b[43m,\u001b[49m\n\u001b[1;32m     13\u001b[0m \u001b[43m    \u001b[49m\u001b[43mcol\u001b[49m\u001b[43m(\u001b[49m\u001b[38;5;124;43m\"\u001b[39;49m\u001b[38;5;124;43mCourse.dueDates\u001b[39;49m\u001b[38;5;124;43m\"\u001b[39;49m\u001b[43m)\u001b[49m\u001b[38;5;241;43m.\u001b[39;49m\u001b[43malias\u001b[49m\u001b[43m(\u001b[49m\u001b[38;5;124;43m\"\u001b[39;49m\u001b[38;5;124;43mdue_dates\u001b[39;49m\u001b[38;5;124;43m\"\u001b[39;49m\u001b[43m)\u001b[49m\u001b[43m,\u001b[49m\n\u001b[1;32m     14\u001b[0m \u001b[43m    \u001b[49m\u001b[38;5;66;43;03m# Add more fields based on your structure\u001b[39;49;00m\n\u001b[1;32m     15\u001b[0m \u001b[43m    \u001b[49m\u001b[43mcol\u001b[49m\u001b[43m(\u001b[49m\u001b[38;5;124;43m\"\u001b[39;49m\u001b[38;5;124;43mFaculty.name\u001b[39;49m\u001b[38;5;124;43m\"\u001b[39;49m\u001b[43m)\u001b[49m\u001b[38;5;241;43m.\u001b[39;49m\u001b[43malias\u001b[49m\u001b[43m(\u001b[49m\u001b[38;5;124;43m\"\u001b[39;49m\u001b[38;5;124;43mfaculty_member_name\u001b[39;49m\u001b[38;5;124;43m\"\u001b[39;49m\u001b[43m)\u001b[49m\u001b[43m,\u001b[49m\n\u001b[1;32m     16\u001b[0m \u001b[43m    \u001b[49m\u001b[43mcol\u001b[49m\u001b[43m(\u001b[49m\u001b[38;5;124;43m\"\u001b[39;49m\u001b[38;5;124;43mFaculty.officeHours\u001b[39;49m\u001b[38;5;124;43m\"\u001b[39;49m\u001b[43m)\u001b[49m\u001b[38;5;241;43m.\u001b[39;49m\u001b[43malias\u001b[49m\u001b[43m(\u001b[49m\u001b[38;5;124;43m\"\u001b[39;49m\u001b[38;5;124;43mfaculty_member_office_hours\u001b[39;49m\u001b[38;5;124;43m\"\u001b[39;49m\u001b[43m)\u001b[49m\n\u001b[1;32m     17\u001b[0m \u001b[43m    \u001b[49m\u001b[38;5;66;43;03m# If Faculty has more than one entry and is an array, you might need to explode it first\u001b[39;49;00m\n\u001b[1;32m     18\u001b[0m \u001b[43m)\u001b[49m\n\u001b[1;32m     20\u001b[0m df_flattened\u001b[38;5;241m.\u001b[39mshow(truncate\u001b[38;5;241m=\u001b[39m\u001b[38;5;28;01mFalse\u001b[39;00m)\n",
      "File \u001b[0;32m/usr/local/spark/python/pyspark/sql/dataframe.py:3227\u001b[0m, in \u001b[0;36mDataFrame.select\u001b[0;34m(self, *cols)\u001b[0m\n\u001b[1;32m   3182\u001b[0m \u001b[38;5;28;01mdef\u001b[39;00m \u001b[38;5;21mselect\u001b[39m(\u001b[38;5;28mself\u001b[39m, \u001b[38;5;241m*\u001b[39mcols: \u001b[38;5;124m\"\u001b[39m\u001b[38;5;124mColumnOrName\u001b[39m\u001b[38;5;124m\"\u001b[39m) \u001b[38;5;241m-\u001b[39m\u001b[38;5;241m>\u001b[39m \u001b[38;5;124m\"\u001b[39m\u001b[38;5;124mDataFrame\u001b[39m\u001b[38;5;124m\"\u001b[39m:  \u001b[38;5;66;03m# type: ignore[misc]\u001b[39;00m\n\u001b[1;32m   3183\u001b[0m \u001b[38;5;250m    \u001b[39m\u001b[38;5;124;03m\"\"\"Projects a set of expressions and returns a new :class:`DataFrame`.\u001b[39;00m\n\u001b[1;32m   3184\u001b[0m \n\u001b[1;32m   3185\u001b[0m \u001b[38;5;124;03m    .. versionadded:: 1.3.0\u001b[39;00m\n\u001b[0;32m   (...)\u001b[0m\n\u001b[1;32m   3225\u001b[0m \u001b[38;5;124;03m    +-----+---+\u001b[39;00m\n\u001b[1;32m   3226\u001b[0m \u001b[38;5;124;03m    \"\"\"\u001b[39;00m\n\u001b[0;32m-> 3227\u001b[0m     jdf \u001b[38;5;241m=\u001b[39m \u001b[38;5;28;43mself\u001b[39;49m\u001b[38;5;241;43m.\u001b[39;49m\u001b[43m_jdf\u001b[49m\u001b[38;5;241;43m.\u001b[39;49m\u001b[43mselect\u001b[49m\u001b[43m(\u001b[49m\u001b[38;5;28;43mself\u001b[39;49m\u001b[38;5;241;43m.\u001b[39;49m\u001b[43m_jcols\u001b[49m\u001b[43m(\u001b[49m\u001b[38;5;241;43m*\u001b[39;49m\u001b[43mcols\u001b[49m\u001b[43m)\u001b[49m\u001b[43m)\u001b[49m\n\u001b[1;32m   3228\u001b[0m     \u001b[38;5;28;01mreturn\u001b[39;00m DataFrame(jdf, \u001b[38;5;28mself\u001b[39m\u001b[38;5;241m.\u001b[39msparkSession)\n",
      "File \u001b[0;32m/usr/local/spark/python/lib/py4j-0.10.9.7-src.zip/py4j/java_gateway.py:1322\u001b[0m, in \u001b[0;36mJavaMember.__call__\u001b[0;34m(self, *args)\u001b[0m\n\u001b[1;32m   1316\u001b[0m command \u001b[38;5;241m=\u001b[39m proto\u001b[38;5;241m.\u001b[39mCALL_COMMAND_NAME \u001b[38;5;241m+\u001b[39m\\\n\u001b[1;32m   1317\u001b[0m     \u001b[38;5;28mself\u001b[39m\u001b[38;5;241m.\u001b[39mcommand_header \u001b[38;5;241m+\u001b[39m\\\n\u001b[1;32m   1318\u001b[0m     args_command \u001b[38;5;241m+\u001b[39m\\\n\u001b[1;32m   1319\u001b[0m     proto\u001b[38;5;241m.\u001b[39mEND_COMMAND_PART\n\u001b[1;32m   1321\u001b[0m answer \u001b[38;5;241m=\u001b[39m \u001b[38;5;28mself\u001b[39m\u001b[38;5;241m.\u001b[39mgateway_client\u001b[38;5;241m.\u001b[39msend_command(command)\n\u001b[0;32m-> 1322\u001b[0m return_value \u001b[38;5;241m=\u001b[39m \u001b[43mget_return_value\u001b[49m\u001b[43m(\u001b[49m\n\u001b[1;32m   1323\u001b[0m \u001b[43m    \u001b[49m\u001b[43manswer\u001b[49m\u001b[43m,\u001b[49m\u001b[43m \u001b[49m\u001b[38;5;28;43mself\u001b[39;49m\u001b[38;5;241;43m.\u001b[39;49m\u001b[43mgateway_client\u001b[49m\u001b[43m,\u001b[49m\u001b[43m \u001b[49m\u001b[38;5;28;43mself\u001b[39;49m\u001b[38;5;241;43m.\u001b[39;49m\u001b[43mtarget_id\u001b[49m\u001b[43m,\u001b[49m\u001b[43m \u001b[49m\u001b[38;5;28;43mself\u001b[39;49m\u001b[38;5;241;43m.\u001b[39;49m\u001b[43mname\u001b[49m\u001b[43m)\u001b[49m\n\u001b[1;32m   1325\u001b[0m \u001b[38;5;28;01mfor\u001b[39;00m temp_arg \u001b[38;5;129;01min\u001b[39;00m temp_args:\n\u001b[1;32m   1326\u001b[0m     \u001b[38;5;28;01mif\u001b[39;00m \u001b[38;5;28mhasattr\u001b[39m(temp_arg, \u001b[38;5;124m\"\u001b[39m\u001b[38;5;124m_detach\u001b[39m\u001b[38;5;124m\"\u001b[39m):\n",
      "File \u001b[0;32m/usr/local/spark/python/pyspark/errors/exceptions/captured.py:185\u001b[0m, in \u001b[0;36mcapture_sql_exception.<locals>.deco\u001b[0;34m(*a, **kw)\u001b[0m\n\u001b[1;32m    181\u001b[0m converted \u001b[38;5;241m=\u001b[39m convert_exception(e\u001b[38;5;241m.\u001b[39mjava_exception)\n\u001b[1;32m    182\u001b[0m \u001b[38;5;28;01mif\u001b[39;00m \u001b[38;5;129;01mnot\u001b[39;00m \u001b[38;5;28misinstance\u001b[39m(converted, UnknownException):\n\u001b[1;32m    183\u001b[0m     \u001b[38;5;66;03m# Hide where the exception came from that shows a non-Pythonic\u001b[39;00m\n\u001b[1;32m    184\u001b[0m     \u001b[38;5;66;03m# JVM exception message.\u001b[39;00m\n\u001b[0;32m--> 185\u001b[0m     \u001b[38;5;28;01mraise\u001b[39;00m converted \u001b[38;5;28;01mfrom\u001b[39;00m \u001b[38;5;28;01mNone\u001b[39;00m\n\u001b[1;32m    186\u001b[0m \u001b[38;5;28;01melse\u001b[39;00m:\n\u001b[1;32m    187\u001b[0m     \u001b[38;5;28;01mraise\u001b[39;00m\n",
      "\u001b[0;31mAnalysisException\u001b[0m: [INVALID_EXTRACT_BASE_FIELD_TYPE] Can't extract a value from \"Course[faculty]\". Need a complex type [STRUCT, ARRAY, MAP] but got \"STRING\"."
     ]
    }
   ],
   "source": [
    "from pyspark.sql.functions import col\n",
    "\n",
    "# Expand the DataFrame to show nested fields\n",
    "df_flattened = df.select(\n",
    "    col(\"Course.name\").alias(\"course_name\"),\n",
    "    col(\"Course.description\").alias(\"course_description\"),\n",
    "    col(\"Course.faculty.name\").alias(\"faculty_name\"),\n",
    "    col(\"Course.faculty.officeHours\").alias(\"faculty_office_hours\"),\n",
    "    col(\"Course.learningOutcomes\").alias(\"learning_outcomes\"),\n",
    "    col(\"Course.prerequisites\").alias(\"prerequisites\"),\n",
    "    col(\"Course.attendancePolicy\").alias(\"attendance_policy\"),\n",
    "    col(\"Course.classSchedule\").alias(\"class_schedule\"),\n",
    "    col(\"Course.dueDates\").alias(\"due_dates\"),\n",
    "    # Add more fields based on your structure\n",
    "    col(\"Faculty.name\").alias(\"faculty_member_name\"),\n",
    "    col(\"Faculty.officeHours\").alias(\"faculty_member_office_hours\")\n",
    "    # If Faculty has more than one entry and is an array, you might need to explode it first\n",
    ")\n",
    "\n",
    "df_flattened.show(truncate=False)\n"
   ]
  },
  {
   "cell_type": "code",
   "execution_count": 13,
   "id": "517f26a7-d9fc-4bcf-861a-7280baec1d3d",
   "metadata": {},
   "outputs": [
    {
     "name": "stdout",
     "output_type": "stream",
     "text": [
      "root\n",
      " |-- Course: map (nullable = true)\n",
      " |    |-- key: string\n",
      " |    |-- value: string (valueContainsNull = true)\n",
      " |-- Faculty: array (nullable = true)\n",
      " |    |-- element: map (containsNull = true)\n",
      " |    |    |-- key: string\n",
      " |    |    |-- value: string (valueContainsNull = true)\n",
      "\n"
     ]
    }
   ],
   "source": [
    "df.printSchema()\n"
   ]
  },
  {
   "cell_type": "code",
   "execution_count": 15,
   "id": "6d351022-9446-4272-9d62-3237443db92c",
   "metadata": {},
   "outputs": [],
   "source": [
    "from pyspark.sql.types import StructType, StructField, StringType, ArrayType\n",
    "\n",
    "faculty_in_course_schema = StructType([\n",
    "    StructField(\"name\", StringType(), True),\n",
    "    StructField(\"officeHours\", StringType(), True)\n",
    "])\n",
    "\n",
    "# Define the schema for the course details\n",
    "course_schema = StructType([\n",
    "    StructField(\"name\", StringType(), True),\n",
    "    StructField(\"description\", StringType(), True),\n",
    "    StructField(\"faculty\", faculty_in_course_schema, True),\n",
    "    StructField(\"officeHours\", StringType(), True),\n",
    "    StructField(\"requiredTexts\", ArrayType(StringType()), True),\n",
    "    StructField(\"learningOutcomes\", ArrayType(StringType()), True),\n",
    "    StructField(\"attendancePolicy\", StringType(), True),\n",
    "    StructField(\"classSchedule\", StringType(), True),\n",
    "    StructField(\"dueDates\", StringType(), True),\n",
    "    StructField(\"prerequisites\", ArrayType(StringType()), True)\n",
    "])\n",
    "\n",
    "# Define the schema for the overall faculty array (possibly additional faculty not tied to a specific course)\n",
    "faculty_schema = StructType([\n",
    "    StructField(\"name\", StringType(), True),\n",
    "    StructField(\"officeHours\", StringType(), True)\n",
    "])\n",
    "\n",
    "# Define the overall schema for the DataFrame including both courses and faculty\n",
    "full_schema = StructType([\n",
    "    StructField(\"Course\", course_schema, True),\n",
    "    StructField(\"Faculty\", ArrayType(faculty_schema), True)\n",
    "])"
   ]
  },
  {
   "cell_type": "code",
   "execution_count": 16,
   "id": "83ff6d8d-f823-48fb-9b84-abc692a8659d",
   "metadata": {},
   "outputs": [
    {
     "name": "stdout",
     "output_type": "stream",
     "text": [
      "+------------------------------------------------------------------------------------------------------------------------------------------------------------------------------------------------------------------------------------------------------------------------------------------------------------------------------------------------------------------------------------------------------------------------------------------------------------------------------------------------------------------------------------------------------------------------------------------------------------------------------------------------------------------------------------------------------------------------------------------------------------------------------------------------------------------------------------------------------------------------------------------------------------------------------------------------------------------------------------------------------------------------------------------------------------------------------------------------------------------------------------------------------------------------------------------------------------------------------------------------------------------------------------------------------------------------------------------------------------------------------------------------------------------------------------------------------------------------------------------------------------------------------------------------------------------------------------------------------------------------------------------------------------------------------------------------------------------------------------------------------------------------------------------------------------------------------------------------+--------------------------------------------------------------------------------------------------------------------------------------------------------------------------------------------+\n",
      "|Course                                                                                                                                                                                                                                                                                                                                                                                                                                                                                                                                                                                                                                                                                                                                                                                                                                                                                                                                                                                                                                                                                                                                                                                                                                                                                                                                                                                                                                                                                                                                                                                                                                                                                                                                                                                                                                          |Faculty                                                                                                                                                                                     |\n",
      "+------------------------------------------------------------------------------------------------------------------------------------------------------------------------------------------------------------------------------------------------------------------------------------------------------------------------------------------------------------------------------------------------------------------------------------------------------------------------------------------------------------------------------------------------------------------------------------------------------------------------------------------------------------------------------------------------------------------------------------------------------------------------------------------------------------------------------------------------------------------------------------------------------------------------------------------------------------------------------------------------------------------------------------------------------------------------------------------------------------------------------------------------------------------------------------------------------------------------------------------------------------------------------------------------------------------------------------------------------------------------------------------------------------------------------------------------------------------------------------------------------------------------------------------------------------------------------------------------------------------------------------------------------------------------------------------------------------------------------------------------------------------------------------------------------------------------------------------------+--------------------------------------------------------------------------------------------------------------------------------------------------------------------------------------------+\n",
      "|{IST-718 Big Data Analytics, A broad introduction to analytical processing tools and techniques for information professionals. Students will develop a portfolio of resources, demonstrations, recipes, and examples of various analytical techniques. This course will prepare you to participate as a Data Scientist on big data and data analytics projects., {Akit Kumar, TBD – See Blackboard Announcements; By appointment}, TBD – See Blackboard Announcements; By appointment, [Python Data Science Handbook by Jake VanderPlas, An Introduction to Statistical Learning with Applications in R by Gareth James, Daniela Witten, Trevor Hastie, Robert Tibshirani, Deep Learning by Ian Goodfellow, Yoshua Bengio, Aaron Courville, Apache Spark: The Definitive Guide by Chambers and Zaharia], [Translate a business challenge into an analytics challenge, Use linear and logistic regression, decision trees, and neural networks to make predictions, Use data science to gain actionable insights, Use Python and Apache Spark to build big data analytics pipelines, Apply classic and state of the art machine learning techniques, Explain how advanced analytics can be leveraged to create a competitive advantage], Attendance is not mandatory but considered in final grading where a student's grade is close to the next higher grade., Tuesday Class: Hinds Hall Room 010, 2 – 4:45 PM, January 17th to April 25th., Assignment dates and project deadlines are distributed throughout the semester., [Familiarity with command-line interfaces, Quantitative skills including statistics, Basic knowledge of linear algebra, basic probability, basic statistics, basic calculus, strong algebra skills, Strong programming skills in Python or some other language, IST-687 Introduction to Data Science or IST-387]}|NULL                                                                                                                                                                                        |\n",
      "|{CIS 467/667: Introduction to Artificial Intelligence, Knowledge representation, production systems, search algorithms, game playing, uncertainty handling, learning, automated reasoning, computer vision, and natural language processing. Programming project or term paper required for CIS 667, not for CIS 467. The course aims to prepare students to work and live in a world increasingly influenced by artificial intelligence., {Garrett Katz, Mondays and Wednesdays 1-3PM Eastern time}, Mondays and Wednesdays 1-3PM Eastern time, [], [Build and understand AI systems applicable to examples like solving Rubik's cube, playing chess, recognizing symbols in images, and more., Equip students with the knowledge needed for mathematical and computational exercises in AI.], Attendance in classes is expected in all courses at Syracuse University. No make-up exams offered, but the lowest exam grade is dropped., Mondays and Wednesdays 5:15 – 6:35 PM Eastern time at Heroy Geology Building Auditorium, Refer to the tentative course schedule on the Blackboard page., [MAT295+296: Calculus I and II, CIS 375: Discrete Math, CIS 321: Probability and Statistics, CIS 351 or CSE 382: Algorithms and Data Structures]}                                                                                                                                                                                                                                                                                                                                                                                                                                                                                                                                                                                            |[{Garrett Katz, Mondays and Wednesdays 1-3PM Eastern time}, {Borui He, Mondays and Wednesdays 10AM – 12PM (Eastern time)}, {Ruipeng Liu, Tuesdays and Thursdays 10AM – 12PM (Eastern time)}]|\n",
      "+------------------------------------------------------------------------------------------------------------------------------------------------------------------------------------------------------------------------------------------------------------------------------------------------------------------------------------------------------------------------------------------------------------------------------------------------------------------------------------------------------------------------------------------------------------------------------------------------------------------------------------------------------------------------------------------------------------------------------------------------------------------------------------------------------------------------------------------------------------------------------------------------------------------------------------------------------------------------------------------------------------------------------------------------------------------------------------------------------------------------------------------------------------------------------------------------------------------------------------------------------------------------------------------------------------------------------------------------------------------------------------------------------------------------------------------------------------------------------------------------------------------------------------------------------------------------------------------------------------------------------------------------------------------------------------------------------------------------------------------------------------------------------------------------------------------------------------------------+--------------------------------------------------------------------------------------------------------------------------------------------------------------------------------------------+\n",
      "\n"
     ]
    }
   ],
   "source": [
    "\n",
    "df = spark.createDataFrame([ist_718,cis_667],schema=full_schema)\n",
    "df.show(truncate=False)\n"
   ]
  },
  {
   "cell_type": "code",
   "execution_count": 17,
   "id": "80088300-a269-4fe6-b84a-73a46acf2a09",
   "metadata": {},
   "outputs": [
    {
     "name": "stdout",
     "output_type": "stream",
     "text": [
      "+----------+-----------+-----------+------------------+-----------------+-------------+----------------+----------------+-------------+--------+-------------+\n",
      "|courseName|description|facultyName|facultyOfficeHours|courseOfficeHours|requiredTexts|learningOutcomes|attendancePolicy|classSchedule|dueDates|prerequisites|\n",
      "+----------+-----------+-----------+------------------+-----------------+-------------+----------------+----------------+-------------+--------+-------------+\n",
      "|NULL      |NULL       |NULL       |NULL              |NULL             |NULL         |NULL            |NULL            |NULL         |NULL    |NULL         |\n",
      "|NULL      |NULL       |NULL       |NULL              |NULL             |NULL         |NULL            |NULL            |NULL         |NULL    |NULL         |\n",
      "+----------+-----------+-----------+------------------+-----------------+-------------+----------------+----------------+-------------+--------+-------------+\n",
      "\n"
     ]
    }
   ],
   "source": [
    "course_schema_flat = StructType([\n",
    "    StructField(\"courseName\", StringType(), True),\n",
    "    StructField(\"description\", StringType(), True),\n",
    "    StructField(\"facultyName\", StringType(), True),\n",
    "    StructField(\"facultyOfficeHours\", StringType(), True),\n",
    "    StructField(\"courseOfficeHours\", StringType(), True),\n",
    "    StructField(\"requiredTexts\", ArrayType(StringType()), True),\n",
    "    StructField(\"learningOutcomes\", ArrayType(StringType()), True),\n",
    "    StructField(\"attendancePolicy\", StringType(), True),\n",
    "    StructField(\"classSchedule\", StringType(), True),\n",
    "    StructField(\"dueDates\", StringType(), True),\n",
    "    StructField(\"prerequisites\", ArrayType(StringType()), True)\n",
    "])\n",
    "df_flat = spark.createDataFrame([ist_718,cis_667], schema=course_schema_flat)\n",
    "df_flat.show(truncate=False)"
   ]
  },
  {
   "cell_type": "code",
   "execution_count": null,
   "id": "42b7d46a-e609-4188-9a28-e50fdccacbae",
   "metadata": {},
   "outputs": [],
   "source": []
  }
 ],
 "metadata": {
  "kernelspec": {
   "display_name": "Python 3 (ipykernel)",
   "language": "python",
   "name": "python3"
  },
  "language_info": {
   "codemirror_mode": {
    "name": "ipython",
    "version": 3
   },
   "file_extension": ".py",
   "mimetype": "text/x-python",
   "name": "python",
   "nbconvert_exporter": "python",
   "pygments_lexer": "ipython3",
   "version": "3.11.9"
  }
 },
 "nbformat": 4,
 "nbformat_minor": 5
}
